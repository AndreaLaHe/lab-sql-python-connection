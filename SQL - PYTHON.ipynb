{
 "cells": [
  {
   "cell_type": "code",
   "execution_count": 16,
   "metadata": {},
   "outputs": [],
   "source": [
    "from sqlalchemy import create_engine\n",
    "import pandas as pd\n",
    "\n",
    "from sqlalchemy import create_engine\n",
    "\n",
    "def get_db_connection():\n",
    "    username = input(\"Introduce tu usuario de MySQL: \")\n",
    "    password = input(\"Introduce tu contraseña de MySQL: \")\n",
    "    \n",
    "    # Configuración de la base de datos\n",
    "    host = 'localhost'  # Cambia a la dirección de tu servidor si no es local\n",
    "    port = 3306         # Cambia el puerto si es diferente al predeterminado\n",
    "    database = 'sakila'\n",
    "\n",
    "    # Crear la conexión con SQLAlchemy\n",
    "    try:\n",
    "        engine = create_engine(f'mysql+pymysql://{username}:{password}@{host}:{port}/{database}')\n",
    "        print(\"Conexión exitosa a la base de datos.\")\n",
    "        return engine\n",
    "    except Exception as e:\n",
    "        print(f\"Error al conectar a la base de datos: {e}\")\n",
    "        return None\n"
   ]
  },
  {
   "cell_type": "code",
   "execution_count": 8,
   "metadata": {},
   "outputs": [],
   "source": [
    "def rentals_month(engine, month, year):\n",
    "    query = f\"\"\"\n",
    "    SELECT \n",
    "        customer_id, \n",
    "        COUNT(*) AS rentals \n",
    "    FROM \n",
    "        rental \n",
    "    WHERE \n",
    "        MONTH(rental_date) = {month} AND YEAR(rental_date) = {year}\n",
    "    GROUP BY \n",
    "        customer_id\n",
    "    \"\"\"\n",
    "    df = pd.read_sql(query, engine)\n",
    "    return df\n"
   ]
  },
  {
   "cell_type": "code",
   "execution_count": 10,
   "metadata": {},
   "outputs": [],
   "source": [
    "def rental_count_month(df, month, year):\n",
    "\n",
    "    new_column_name = f\"rentals_{str(month).zfill(2)}_{year}\"\n",
    "    df = df.rename(columns={\"rentals\": new_column_name})\n",
    "    return df\n"
   ]
  },
  {
   "cell_type": "code",
   "execution_count": 9,
   "metadata": {},
   "outputs": [],
   "source": [
    "def compare_rentals(df1, df2):\n",
    "\n",
    "    merged_df = pd.merge(df1, df2, on=\"customer_id\", how=\"outer\").fillna(0)\n",
    "    \n",
    "    rental_columns = [col for col in merged_df.columns if col.startswith('rentals')]\n",
    "    merged_df['difference'] = merged_df[rental_columns[0]] - merged_df[rental_columns[1]]\n",
    "    \n",
    "    return merged_df\n"
   ]
  },
  {
   "cell_type": "code",
   "execution_count": 18,
   "metadata": {},
   "outputs": [
    {
     "name": "stdout",
     "output_type": "stream",
     "text": [
      "Conexión exitosa a la base de datos.\n",
      "     customer_id  rentals_05_2005  rentals_06_2005  difference\n",
      "0              1              2.0              7.0        -5.0\n",
      "1              2              1.0              1.0         0.0\n",
      "2              3              2.0              4.0        -2.0\n",
      "3              5              3.0              5.0        -2.0\n",
      "4              6              3.0              4.0        -1.0\n",
      "..           ...              ...              ...         ...\n",
      "593          583              0.0              6.0        -6.0\n",
      "594          585              0.0              4.0        -4.0\n",
      "595          591              0.0              3.0        -3.0\n",
      "596          592              0.0              5.0        -5.0\n",
      "597          598              0.0              1.0        -1.0\n",
      "\n",
      "[598 rows x 4 columns]\n"
     ]
    }
   ],
   "source": [
    "if __name__ == \"__main__\":\n",
    "\n",
    "    engine = get_db_connection()\n",
    "\n",
    "    may_rentals = rentals_month(engine, 5, 2005)\n",
    "    june_rentals = rentals_month(engine, 6, 2005)\n",
    "\n",
    "    may_rentals = rental_count_month(may_rentals, 5, 2005)\n",
    "    june_rentals = rental_count_month(june_rentals, 6, 2005)\n",
    "\n",
    "    comparison = compare_rentals(may_rentals, june_rentals)\n",
    "\n",
    "    print(comparison)\n"
   ]
  }
 ],
 "metadata": {
  "kernelspec": {
   "display_name": "Python 3",
   "language": "python",
   "name": "python3"
  },
  "language_info": {
   "codemirror_mode": {
    "name": "ipython",
    "version": 3
   },
   "file_extension": ".py",
   "mimetype": "text/x-python",
   "name": "python",
   "nbconvert_exporter": "python",
   "pygments_lexer": "ipython3",
   "version": "3.7.9"
  }
 },
 "nbformat": 4,
 "nbformat_minor": 2
}
